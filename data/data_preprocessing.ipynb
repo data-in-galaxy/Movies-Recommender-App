{
 "cells": [
  {
   "cell_type": "markdown",
   "metadata": {},
   "source": [
    "# Preprocessing Netflix Movies and TV Shows Dataset\n",
    "\n",
    "Data source: https://www.kaggle.com/datasets/shivamb/netflix-shows\n",
    "\n",
    "In preparation for the movie recommender app we will later build, we need to clean and explore the dataset to understand the data structure. This will help us determine the optimal algorithm to be used as the core of the recommendation system. <br>\n",
    "\n",
    "<br>\n",
    "Before we explore the data, let's go over the types of recommendation systems and their data requirements:<br>\n",
    "\n",
    "**1. Content-based Recommendation:** <br>\n",
    "\n",
    "- Items are recommended based on their descriptions, metadata and content similarities <br>\n",
    "\n",
    "- In other words, the user will be recommended a book similar to the ones they liked in the past <br>\n",
    "\n",
    " **Data Requirements:** <br>\n",
    "\n",
    "   - Require item information, like descriptions, keywords, metadata, content summary, etc.<br>\n",
    "\n",
    "   - Does not require user information\n",
    "\n",
    "<br>\n",
    "\n",
    "\n",
    "**2. Collaborative Filtering Recommendation:** <br>\n",
    "\n",
    " *2.1. Item-based Collaborative Filtering* <br>\n",
    " \n",
    "  - Items are recommended based on similarities calculated by user interactions i.e. ratings, reviews, etc.<br>\n",
    "\n",
    "  - Example: 2 items, A & B, are similar - if an user rates item A highly, they are likely to also rate item B highly<br>\n",
    "\n",
    " *2.2. User-based Collaborative Filtering* <br>\n",
    "\n",
    "  - Items are recommended based on similarities between users' characteristics or behaviors <br>\n",
    "\n",
    " **Data Requirements:** <br>\n",
    "\n",
    "   - Require user information like userID, user ratings<br>\n",
    "\n",
    "   - Item-based Approach: Each item needs to have at least one ratings<br>\n",
    "\n",
    "   - User-based Approach: Each user needs to rate at least one items<br>"
   ]
  },
  {
   "cell_type": "markdown",
   "metadata": {},
   "source": [
    "## Data Exploration"
   ]
  },
  {
   "cell_type": "code",
   "execution_count": 237,
   "metadata": {},
   "outputs": [
    {
     "name": "stderr",
     "output_type": "stream",
     "text": [
      "[nltk_data] Downloading package stopwords to\n",
      "[nltk_data]     C:\\Users\\I589795\\AppData\\Roaming\\nltk_data...\n",
      "[nltk_data]   Package stopwords is already up-to-date!\n",
      "[nltk_data] Downloading package punkt to\n",
      "[nltk_data]     C:\\Users\\I589795\\AppData\\Roaming\\nltk_data...\n",
      "[nltk_data]   Package punkt is already up-to-date!\n"
     ]
    }
   ],
   "source": [
    "import pandas as pd\n",
    "import numpy as np\n",
    "import re\n",
    "import nltk\n",
    "from sklearn.feature_extraction.text import TfidfVectorizer\n",
    "from sklearn.metrics.pairwise import cosine_similarity\n",
    "nltk.download('stopwords')\n",
    "nltk.download('punkt')\n",
    "from nltk import word_tokenize\n",
    "from nltk.corpus import stopwords"
   ]
  },
  {
   "cell_type": "code",
   "execution_count": 238,
   "metadata": {},
   "outputs": [
    {
     "data": {
      "text/html": [
       "<div>\n",
       "<style scoped>\n",
       "    .dataframe tbody tr th:only-of-type {\n",
       "        vertical-align: middle;\n",
       "    }\n",
       "\n",
       "    .dataframe tbody tr th {\n",
       "        vertical-align: top;\n",
       "    }\n",
       "\n",
       "    .dataframe thead th {\n",
       "        text-align: right;\n",
       "    }\n",
       "</style>\n",
       "<table border=\"1\" class=\"dataframe\">\n",
       "  <thead>\n",
       "    <tr style=\"text-align: right;\">\n",
       "      <th></th>\n",
       "      <th>type</th>\n",
       "      <th>title</th>\n",
       "      <th>director</th>\n",
       "      <th>cast</th>\n",
       "      <th>country</th>\n",
       "      <th>date_added</th>\n",
       "      <th>release_year</th>\n",
       "      <th>rating</th>\n",
       "      <th>duration</th>\n",
       "      <th>listed_in</th>\n",
       "      <th>description</th>\n",
       "    </tr>\n",
       "    <tr>\n",
       "      <th>show_id</th>\n",
       "      <th></th>\n",
       "      <th></th>\n",
       "      <th></th>\n",
       "      <th></th>\n",
       "      <th></th>\n",
       "      <th></th>\n",
       "      <th></th>\n",
       "      <th></th>\n",
       "      <th></th>\n",
       "      <th></th>\n",
       "      <th></th>\n",
       "    </tr>\n",
       "  </thead>\n",
       "  <tbody>\n",
       "    <tr>\n",
       "      <th>s1</th>\n",
       "      <td>Movie</td>\n",
       "      <td>Dick Johnson Is Dead</td>\n",
       "      <td>Kirsten Johnson</td>\n",
       "      <td>NaN</td>\n",
       "      <td>United States</td>\n",
       "      <td>September 25, 2021</td>\n",
       "      <td>2020</td>\n",
       "      <td>PG-13</td>\n",
       "      <td>90 min</td>\n",
       "      <td>Documentaries</td>\n",
       "      <td>As her father nears the end of his life, filmm...</td>\n",
       "    </tr>\n",
       "    <tr>\n",
       "      <th>s2</th>\n",
       "      <td>TV Show</td>\n",
       "      <td>Blood &amp; Water</td>\n",
       "      <td>NaN</td>\n",
       "      <td>Ama Qamata, Khosi Ngema, Gail Mabalane, Thaban...</td>\n",
       "      <td>South Africa</td>\n",
       "      <td>September 24, 2021</td>\n",
       "      <td>2021</td>\n",
       "      <td>TV-MA</td>\n",
       "      <td>2 Seasons</td>\n",
       "      <td>International TV Shows, TV Dramas, TV Mysteries</td>\n",
       "      <td>After crossing paths at a party, a Cape Town t...</td>\n",
       "    </tr>\n",
       "    <tr>\n",
       "      <th>s3</th>\n",
       "      <td>TV Show</td>\n",
       "      <td>Ganglands</td>\n",
       "      <td>Julien Leclercq</td>\n",
       "      <td>Sami Bouajila, Tracy Gotoas, Samuel Jouy, Nabi...</td>\n",
       "      <td>NaN</td>\n",
       "      <td>September 24, 2021</td>\n",
       "      <td>2021</td>\n",
       "      <td>TV-MA</td>\n",
       "      <td>1 Season</td>\n",
       "      <td>Crime TV Shows, International TV Shows, TV Act...</td>\n",
       "      <td>To protect his family from a powerful drug lor...</td>\n",
       "    </tr>\n",
       "    <tr>\n",
       "      <th>s4</th>\n",
       "      <td>TV Show</td>\n",
       "      <td>Jailbirds New Orleans</td>\n",
       "      <td>NaN</td>\n",
       "      <td>NaN</td>\n",
       "      <td>NaN</td>\n",
       "      <td>September 24, 2021</td>\n",
       "      <td>2021</td>\n",
       "      <td>TV-MA</td>\n",
       "      <td>1 Season</td>\n",
       "      <td>Docuseries, Reality TV</td>\n",
       "      <td>Feuds, flirtations and toilet talk go down amo...</td>\n",
       "    </tr>\n",
       "    <tr>\n",
       "      <th>s5</th>\n",
       "      <td>TV Show</td>\n",
       "      <td>Kota Factory</td>\n",
       "      <td>NaN</td>\n",
       "      <td>Mayur More, Jitendra Kumar, Ranjan Raj, Alam K...</td>\n",
       "      <td>India</td>\n",
       "      <td>September 24, 2021</td>\n",
       "      <td>2021</td>\n",
       "      <td>TV-MA</td>\n",
       "      <td>2 Seasons</td>\n",
       "      <td>International TV Shows, Romantic TV Shows, TV ...</td>\n",
       "      <td>In a city of coaching centers known to train I...</td>\n",
       "    </tr>\n",
       "  </tbody>\n",
       "</table>\n",
       "</div>"
      ],
      "text/plain": [
       "            type                  title         director  \\\n",
       "show_id                                                    \n",
       "s1         Movie   Dick Johnson Is Dead  Kirsten Johnson   \n",
       "s2       TV Show          Blood & Water              NaN   \n",
       "s3       TV Show              Ganglands  Julien Leclercq   \n",
       "s4       TV Show  Jailbirds New Orleans              NaN   \n",
       "s5       TV Show           Kota Factory              NaN   \n",
       "\n",
       "                                                      cast        country  \\\n",
       "show_id                                                                     \n",
       "s1                                                     NaN  United States   \n",
       "s2       Ama Qamata, Khosi Ngema, Gail Mabalane, Thaban...   South Africa   \n",
       "s3       Sami Bouajila, Tracy Gotoas, Samuel Jouy, Nabi...            NaN   \n",
       "s4                                                     NaN            NaN   \n",
       "s5       Mayur More, Jitendra Kumar, Ranjan Raj, Alam K...          India   \n",
       "\n",
       "                 date_added  release_year rating   duration  \\\n",
       "show_id                                                       \n",
       "s1       September 25, 2021          2020  PG-13     90 min   \n",
       "s2       September 24, 2021          2021  TV-MA  2 Seasons   \n",
       "s3       September 24, 2021          2021  TV-MA   1 Season   \n",
       "s4       September 24, 2021          2021  TV-MA   1 Season   \n",
       "s5       September 24, 2021          2021  TV-MA  2 Seasons   \n",
       "\n",
       "                                                 listed_in  \\\n",
       "show_id                                                      \n",
       "s1                                           Documentaries   \n",
       "s2         International TV Shows, TV Dramas, TV Mysteries   \n",
       "s3       Crime TV Shows, International TV Shows, TV Act...   \n",
       "s4                                  Docuseries, Reality TV   \n",
       "s5       International TV Shows, Romantic TV Shows, TV ...   \n",
       "\n",
       "                                               description  \n",
       "show_id                                                     \n",
       "s1       As her father nears the end of his life, filmm...  \n",
       "s2       After crossing paths at a party, a Cape Town t...  \n",
       "s3       To protect his family from a powerful drug lor...  \n",
       "s4       Feuds, flirtations and toilet talk go down amo...  \n",
       "s5       In a city of coaching centers known to train I...  "
      ]
     },
     "execution_count": 238,
     "metadata": {},
     "output_type": "execute_result"
    }
   ],
   "source": [
    "netflix_data = pd.read_csv('netflix_titles.csv', index_col=0)\n",
    "netflix_data.head()"
   ]
  },
  {
   "cell_type": "code",
   "execution_count": 239,
   "metadata": {},
   "outputs": [
    {
     "data": {
      "text/plain": [
       "Index(['type', 'title', 'director', 'cast', 'country', 'date_added',\n",
       "       'release_year', 'rating', 'duration', 'listed_in', 'description'],\n",
       "      dtype='object')"
      ]
     },
     "execution_count": 239,
     "metadata": {},
     "output_type": "execute_result"
    }
   ],
   "source": [
    "netflix_data.columns"
   ]
  },
  {
   "cell_type": "code",
   "execution_count": 240,
   "metadata": {},
   "outputs": [
    {
     "data": {
      "text/plain": [
       "(8807, 11)"
      ]
     },
     "execution_count": 240,
     "metadata": {},
     "output_type": "execute_result"
    }
   ],
   "source": [
    "netflix_data.shape"
   ]
  },
  {
   "cell_type": "code",
   "execution_count": 241,
   "metadata": {},
   "outputs": [
    {
     "data": {
      "text/plain": [
       "'As her father nears the end of his life, filmmaker Kirsten Johnson stages his death in inventive and comical ways to help them both face the inevitable.'"
      ]
     },
     "execution_count": 241,
     "metadata": {},
     "output_type": "execute_result"
    }
   ],
   "source": [
    "# Print description of the first movie\n",
    "netflix_data.description[0]"
   ]
  },
  {
   "cell_type": "markdown",
   "metadata": {},
   "source": [
    "### Note\n",
    "\n",
    "- We notice that the dataset has no information about user ratings or user IDs<br>\n",
    "\n",
    "- Thus, we will use content-based approach to build the recommendation system"
   ]
  },
  {
   "cell_type": "markdown",
   "metadata": {},
   "source": [
    "## Content-based Recommendation Systems\n",
    "\n",
    "We will build 2 content-based recommendation systems (specific data cleaning steps and algorithms used listed below)\n",
    "\n",
    "**1. Recommendation System based on movie description** <br> \n",
    "\n",
    "- *Data Cleaning:* <br>\n",
    "  + Clean description column to retain only relevant keywords using user-defined functions and NLTK library <br>\n",
    "<br>\n",
    "\n",
    "- *Algorithms:* <br>\n",
    "  + Utilize ```TF-IDF``` model to represent text as vector arrays. <br>\n",
    "    -> ```TF-IDF``` measures the relative importance of a word by comparing its frequency in a specific document to its occurence across the entire corpus. <br>\n",
    "    -> ```TF-IDF``` will reduce weights of common words, and increase weights of rare words that don't occur in many documents<br>\n",
    "    \n",
    "  + Utilize ```Cosine Similarity``` to calculare similarities between vectorized words<br>\n",
    "    -> ```Cosine Similarity``` measures similarity between pairs of vectors<br>\n",
    "\n",
    "\n",
    "**2. Recommendation System based on metadata (director, cast, genre, type)** <br>\n",
    "\n",
    "- *Data Cleaning:* <br>\n",
    "  + Cast column: Keep top 3 actors, lowercase all names and strip spaces between names <br>\n",
    "  + Director column: Lowercase and strip spaces between names <br>\n",
    "  + Create metadata soup (combining cast, director, genre, type) to feed vectorizer <br>\n",
    "<br>\n",
    "\n",
    "- *Algorithms:* <br>\n",
    "  + Utilize ```TF-IDF``` model to represent text as vector arrays. <br>\n",
    "    -> ```TF-IDF``` measures the relative importance of a word by comparing its frequency in a specific document to its occurence across the entire corpus. <br>\n",
    "    -> ```TF-IDF``` will reduce weights of common words, and increase weights of rare words that don't occur in many documents<br>\n",
    "\n",
    "  + Utilize ```Cosine Similarity``` to calculare similarities between vectorized words<br>\n",
    "    -> ```Cosine Similarity``` measures similarity between pairs of vectors<br>  "
   ]
  },
  {
   "cell_type": "code",
   "execution_count": 242,
   "metadata": {},
   "outputs": [
    {
     "data": {
      "text/plain": [
       "Index(['type', 'title', 'director', 'cast', 'country', 'date_added',\n",
       "       'release_year', 'rating', 'duration', 'listed_in', 'description'],\n",
       "      dtype='object')"
      ]
     },
     "execution_count": 242,
     "metadata": {},
     "output_type": "execute_result"
    }
   ],
   "source": [
    "netflix_data.columns"
   ]
  },
  {
   "cell_type": "code",
   "execution_count": 243,
   "metadata": {},
   "outputs": [
    {
     "data": {
      "text/html": [
       "<div>\n",
       "<style scoped>\n",
       "    .dataframe tbody tr th:only-of-type {\n",
       "        vertical-align: middle;\n",
       "    }\n",
       "\n",
       "    .dataframe tbody tr th {\n",
       "        vertical-align: top;\n",
       "    }\n",
       "\n",
       "    .dataframe thead th {\n",
       "        text-align: right;\n",
       "    }\n",
       "</style>\n",
       "<table border=\"1\" class=\"dataframe\">\n",
       "  <thead>\n",
       "    <tr style=\"text-align: right;\">\n",
       "      <th></th>\n",
       "      <th>title</th>\n",
       "      <th>type</th>\n",
       "      <th>director</th>\n",
       "      <th>cast</th>\n",
       "      <th>genre</th>\n",
       "      <th>description</th>\n",
       "    </tr>\n",
       "    <tr>\n",
       "      <th>show_id</th>\n",
       "      <th></th>\n",
       "      <th></th>\n",
       "      <th></th>\n",
       "      <th></th>\n",
       "      <th></th>\n",
       "      <th></th>\n",
       "    </tr>\n",
       "  </thead>\n",
       "  <tbody>\n",
       "    <tr>\n",
       "      <th>s1</th>\n",
       "      <td>Dick Johnson Is Dead</td>\n",
       "      <td>Movie</td>\n",
       "      <td>Kirsten Johnson</td>\n",
       "      <td>NaN</td>\n",
       "      <td>Documentaries</td>\n",
       "      <td>As her father nears the end of his life, filmm...</td>\n",
       "    </tr>\n",
       "    <tr>\n",
       "      <th>s2</th>\n",
       "      <td>Blood &amp; Water</td>\n",
       "      <td>TV Show</td>\n",
       "      <td>NaN</td>\n",
       "      <td>Ama Qamata, Khosi Ngema, Gail Mabalane, Thaban...</td>\n",
       "      <td>International TV Shows, TV Dramas, TV Mysteries</td>\n",
       "      <td>After crossing paths at a party, a Cape Town t...</td>\n",
       "    </tr>\n",
       "    <tr>\n",
       "      <th>s3</th>\n",
       "      <td>Ganglands</td>\n",
       "      <td>TV Show</td>\n",
       "      <td>Julien Leclercq</td>\n",
       "      <td>Sami Bouajila, Tracy Gotoas, Samuel Jouy, Nabi...</td>\n",
       "      <td>Crime TV Shows, International TV Shows, TV Act...</td>\n",
       "      <td>To protect his family from a powerful drug lor...</td>\n",
       "    </tr>\n",
       "    <tr>\n",
       "      <th>s4</th>\n",
       "      <td>Jailbirds New Orleans</td>\n",
       "      <td>TV Show</td>\n",
       "      <td>NaN</td>\n",
       "      <td>NaN</td>\n",
       "      <td>Docuseries, Reality TV</td>\n",
       "      <td>Feuds, flirtations and toilet talk go down amo...</td>\n",
       "    </tr>\n",
       "    <tr>\n",
       "      <th>s5</th>\n",
       "      <td>Kota Factory</td>\n",
       "      <td>TV Show</td>\n",
       "      <td>NaN</td>\n",
       "      <td>Mayur More, Jitendra Kumar, Ranjan Raj, Alam K...</td>\n",
       "      <td>International TV Shows, Romantic TV Shows, TV ...</td>\n",
       "      <td>In a city of coaching centers known to train I...</td>\n",
       "    </tr>\n",
       "  </tbody>\n",
       "</table>\n",
       "</div>"
      ],
      "text/plain": [
       "                         title     type         director  \\\n",
       "show_id                                                    \n",
       "s1        Dick Johnson Is Dead    Movie  Kirsten Johnson   \n",
       "s2               Blood & Water  TV Show              NaN   \n",
       "s3                   Ganglands  TV Show  Julien Leclercq   \n",
       "s4       Jailbirds New Orleans  TV Show              NaN   \n",
       "s5                Kota Factory  TV Show              NaN   \n",
       "\n",
       "                                                      cast  \\\n",
       "show_id                                                      \n",
       "s1                                                     NaN   \n",
       "s2       Ama Qamata, Khosi Ngema, Gail Mabalane, Thaban...   \n",
       "s3       Sami Bouajila, Tracy Gotoas, Samuel Jouy, Nabi...   \n",
       "s4                                                     NaN   \n",
       "s5       Mayur More, Jitendra Kumar, Ranjan Raj, Alam K...   \n",
       "\n",
       "                                                     genre  \\\n",
       "show_id                                                      \n",
       "s1                                           Documentaries   \n",
       "s2         International TV Shows, TV Dramas, TV Mysteries   \n",
       "s3       Crime TV Shows, International TV Shows, TV Act...   \n",
       "s4                                  Docuseries, Reality TV   \n",
       "s5       International TV Shows, Romantic TV Shows, TV ...   \n",
       "\n",
       "                                               description  \n",
       "show_id                                                     \n",
       "s1       As her father nears the end of his life, filmm...  \n",
       "s2       After crossing paths at a party, a Cape Town t...  \n",
       "s3       To protect his family from a powerful drug lor...  \n",
       "s4       Feuds, flirtations and toilet talk go down amo...  \n",
       "s5       In a city of coaching centers known to train I...  "
      ]
     },
     "execution_count": 243,
     "metadata": {},
     "output_type": "execute_result"
    }
   ],
   "source": [
    "# Create new DataFrame containing metadata of movies and shows \n",
    "netflix_metadata = netflix_data.copy()\n",
    "netflix_metadata = netflix_metadata[['title', 'type', 'director', 'cast', 'listed_in', 'description']]\n",
    "\n",
    "# Rename listed_in column as genre \n",
    "netflix_metadata.rename(columns={'listed_in': 'genre'}, inplace=True)\n",
    "netflix_metadata.head()"
   ]
  },
  {
   "cell_type": "code",
   "execution_count": 244,
   "metadata": {},
   "outputs": [
    {
     "name": "stdout",
     "output_type": "stream",
     "text": [
      "<class 'pandas.core.frame.DataFrame'>\n",
      "Index: 8807 entries, s1 to s8807\n",
      "Data columns (total 6 columns):\n",
      " #   Column       Non-Null Count  Dtype \n",
      "---  ------       --------------  ----- \n",
      " 0   title        8807 non-null   object\n",
      " 1   type         8807 non-null   object\n",
      " 2   director     6173 non-null   object\n",
      " 3   cast         7982 non-null   object\n",
      " 4   genre        8807 non-null   object\n",
      " 5   description  8807 non-null   object\n",
      "dtypes: object(6)\n",
      "memory usage: 481.6+ KB\n"
     ]
    }
   ],
   "source": [
    "netflix_metadata.info()\n",
    "\n",
    "## Some titles do not have information of director and cast\n",
    "## All titles have description -> no need to drop any rows"
   ]
  },
  {
   "cell_type": "markdown",
   "metadata": {},
   "source": [
    "### Description-based Recommender"
   ]
  },
  {
   "cell_type": "code",
   "execution_count": 245,
   "metadata": {},
   "outputs": [
    {
     "data": {
      "text/html": [
       "<div>\n",
       "<style scoped>\n",
       "    .dataframe tbody tr th:only-of-type {\n",
       "        vertical-align: middle;\n",
       "    }\n",
       "\n",
       "    .dataframe tbody tr th {\n",
       "        vertical-align: top;\n",
       "    }\n",
       "\n",
       "    .dataframe thead th {\n",
       "        text-align: right;\n",
       "    }\n",
       "</style>\n",
       "<table border=\"1\" class=\"dataframe\">\n",
       "  <thead>\n",
       "    <tr style=\"text-align: right;\">\n",
       "      <th></th>\n",
       "      <th>title</th>\n",
       "      <th>type</th>\n",
       "      <th>director</th>\n",
       "      <th>cast</th>\n",
       "      <th>genre</th>\n",
       "      <th>description</th>\n",
       "      <th>clean_desc</th>\n",
       "    </tr>\n",
       "    <tr>\n",
       "      <th>show_id</th>\n",
       "      <th></th>\n",
       "      <th></th>\n",
       "      <th></th>\n",
       "      <th></th>\n",
       "      <th></th>\n",
       "      <th></th>\n",
       "      <th></th>\n",
       "    </tr>\n",
       "  </thead>\n",
       "  <tbody>\n",
       "    <tr>\n",
       "      <th>s1</th>\n",
       "      <td>Dick Johnson Is Dead</td>\n",
       "      <td>Movie</td>\n",
       "      <td>Kirsten Johnson</td>\n",
       "      <td>NaN</td>\n",
       "      <td>Documentaries</td>\n",
       "      <td>As her father nears the end of his life, filmm...</td>\n",
       "      <td>as her father nears the end of his life  filmm...</td>\n",
       "    </tr>\n",
       "    <tr>\n",
       "      <th>s2</th>\n",
       "      <td>Blood &amp; Water</td>\n",
       "      <td>TV Show</td>\n",
       "      <td>NaN</td>\n",
       "      <td>Ama Qamata, Khosi Ngema, Gail Mabalane, Thaban...</td>\n",
       "      <td>International TV Shows, TV Dramas, TV Mysteries</td>\n",
       "      <td>After crossing paths at a party, a Cape Town t...</td>\n",
       "      <td>after crossing paths at a party  a cape town t...</td>\n",
       "    </tr>\n",
       "    <tr>\n",
       "      <th>s3</th>\n",
       "      <td>Ganglands</td>\n",
       "      <td>TV Show</td>\n",
       "      <td>Julien Leclercq</td>\n",
       "      <td>Sami Bouajila, Tracy Gotoas, Samuel Jouy, Nabi...</td>\n",
       "      <td>Crime TV Shows, International TV Shows, TV Act...</td>\n",
       "      <td>To protect his family from a powerful drug lor...</td>\n",
       "      <td>to protect his family from a powerful drug lor...</td>\n",
       "    </tr>\n",
       "    <tr>\n",
       "      <th>s4</th>\n",
       "      <td>Jailbirds New Orleans</td>\n",
       "      <td>TV Show</td>\n",
       "      <td>NaN</td>\n",
       "      <td>NaN</td>\n",
       "      <td>Docuseries, Reality TV</td>\n",
       "      <td>Feuds, flirtations and toilet talk go down amo...</td>\n",
       "      <td>feuds  flirtations and toilet talk go down amo...</td>\n",
       "    </tr>\n",
       "    <tr>\n",
       "      <th>s5</th>\n",
       "      <td>Kota Factory</td>\n",
       "      <td>TV Show</td>\n",
       "      <td>NaN</td>\n",
       "      <td>Mayur More, Jitendra Kumar, Ranjan Raj, Alam K...</td>\n",
       "      <td>International TV Shows, Romantic TV Shows, TV ...</td>\n",
       "      <td>In a city of coaching centers known to train I...</td>\n",
       "      <td>in a city of coaching centers known to train i...</td>\n",
       "    </tr>\n",
       "  </tbody>\n",
       "</table>\n",
       "</div>"
      ],
      "text/plain": [
       "                         title     type         director  \\\n",
       "show_id                                                    \n",
       "s1        Dick Johnson Is Dead    Movie  Kirsten Johnson   \n",
       "s2               Blood & Water  TV Show              NaN   \n",
       "s3                   Ganglands  TV Show  Julien Leclercq   \n",
       "s4       Jailbirds New Orleans  TV Show              NaN   \n",
       "s5                Kota Factory  TV Show              NaN   \n",
       "\n",
       "                                                      cast  \\\n",
       "show_id                                                      \n",
       "s1                                                     NaN   \n",
       "s2       Ama Qamata, Khosi Ngema, Gail Mabalane, Thaban...   \n",
       "s3       Sami Bouajila, Tracy Gotoas, Samuel Jouy, Nabi...   \n",
       "s4                                                     NaN   \n",
       "s5       Mayur More, Jitendra Kumar, Ranjan Raj, Alam K...   \n",
       "\n",
       "                                                     genre  \\\n",
       "show_id                                                      \n",
       "s1                                           Documentaries   \n",
       "s2         International TV Shows, TV Dramas, TV Mysteries   \n",
       "s3       Crime TV Shows, International TV Shows, TV Act...   \n",
       "s4                                  Docuseries, Reality TV   \n",
       "s5       International TV Shows, Romantic TV Shows, TV ...   \n",
       "\n",
       "                                               description  \\\n",
       "show_id                                                      \n",
       "s1       As her father nears the end of his life, filmm...   \n",
       "s2       After crossing paths at a party, a Cape Town t...   \n",
       "s3       To protect his family from a powerful drug lor...   \n",
       "s4       Feuds, flirtations and toilet talk go down amo...   \n",
       "s5       In a city of coaching centers known to train I...   \n",
       "\n",
       "                                                clean_desc  \n",
       "show_id                                                     \n",
       "s1       as her father nears the end of his life  filmm...  \n",
       "s2       after crossing paths at a party  a cape town t...  \n",
       "s3       to protect his family from a powerful drug lor...  \n",
       "s4       feuds  flirtations and toilet talk go down amo...  \n",
       "s5       in a city of coaching centers known to train i...  "
      ]
     },
     "execution_count": 245,
     "metadata": {},
     "output_type": "execute_result"
    }
   ],
   "source": [
    "# Clean description\n",
    "\n",
    "# Define function to clean description\n",
    "def cleaning(s):\n",
    "    s = str(s) \n",
    "    s = s.lower() # lowercase all words\n",
    "    s = re.sub('[^a-zA-Z]', ' ', s)  # replace characters other than \"a\" to \"z\" & \"A\" to \"Z\" with spaces\n",
    "    return s\n",
    "\n",
    "# Apply function on description to create new column 'clean_desc'\n",
    "netflix_metadata['clean_desc'] = netflix_metadata['description'].apply(cleaning)\n",
    "\n",
    "netflix_metadata.head()"
   ]
  },
  {
   "cell_type": "code",
   "execution_count": 246,
   "metadata": {},
   "outputs": [
    {
     "data": {
      "text/html": [
       "<div>\n",
       "<style scoped>\n",
       "    .dataframe tbody tr th:only-of-type {\n",
       "        vertical-align: middle;\n",
       "    }\n",
       "\n",
       "    .dataframe tbody tr th {\n",
       "        vertical-align: top;\n",
       "    }\n",
       "\n",
       "    .dataframe thead th {\n",
       "        text-align: right;\n",
       "    }\n",
       "</style>\n",
       "<table border=\"1\" class=\"dataframe\">\n",
       "  <thead>\n",
       "    <tr style=\"text-align: right;\">\n",
       "      <th></th>\n",
       "      <th>title</th>\n",
       "      <th>type</th>\n",
       "      <th>director</th>\n",
       "      <th>cast</th>\n",
       "      <th>genre</th>\n",
       "      <th>description</th>\n",
       "      <th>clean_desc</th>\n",
       "    </tr>\n",
       "    <tr>\n",
       "      <th>show_id</th>\n",
       "      <th></th>\n",
       "      <th></th>\n",
       "      <th></th>\n",
       "      <th></th>\n",
       "      <th></th>\n",
       "      <th></th>\n",
       "      <th></th>\n",
       "    </tr>\n",
       "  </thead>\n",
       "  <tbody>\n",
       "    <tr>\n",
       "      <th>s1</th>\n",
       "      <td>Dick Johnson Is Dead</td>\n",
       "      <td>Movie</td>\n",
       "      <td>Kirsten Johnson</td>\n",
       "      <td>NaN</td>\n",
       "      <td>Documentaries</td>\n",
       "      <td>As her father nears the end of his life, filmm...</td>\n",
       "      <td>father nears end life filmmaker kirsten johnso...</td>\n",
       "    </tr>\n",
       "    <tr>\n",
       "      <th>s2</th>\n",
       "      <td>Blood &amp; Water</td>\n",
       "      <td>TV Show</td>\n",
       "      <td>NaN</td>\n",
       "      <td>Ama Qamata, Khosi Ngema, Gail Mabalane, Thaban...</td>\n",
       "      <td>International TV Shows, TV Dramas, TV Mysteries</td>\n",
       "      <td>After crossing paths at a party, a Cape Town t...</td>\n",
       "      <td>crossing paths party cape town teen sets prove...</td>\n",
       "    </tr>\n",
       "    <tr>\n",
       "      <th>s3</th>\n",
       "      <td>Ganglands</td>\n",
       "      <td>TV Show</td>\n",
       "      <td>Julien Leclercq</td>\n",
       "      <td>Sami Bouajila, Tracy Gotoas, Samuel Jouy, Nabi...</td>\n",
       "      <td>Crime TV Shows, International TV Shows, TV Act...</td>\n",
       "      <td>To protect his family from a powerful drug lor...</td>\n",
       "      <td>protect family powerful drug lord skilled thie...</td>\n",
       "    </tr>\n",
       "    <tr>\n",
       "      <th>s4</th>\n",
       "      <td>Jailbirds New Orleans</td>\n",
       "      <td>TV Show</td>\n",
       "      <td>NaN</td>\n",
       "      <td>NaN</td>\n",
       "      <td>Docuseries, Reality TV</td>\n",
       "      <td>Feuds, flirtations and toilet talk go down amo...</td>\n",
       "      <td>feuds flirtations toilet talk go among incarce...</td>\n",
       "    </tr>\n",
       "    <tr>\n",
       "      <th>s5</th>\n",
       "      <td>Kota Factory</td>\n",
       "      <td>TV Show</td>\n",
       "      <td>NaN</td>\n",
       "      <td>Mayur More, Jitendra Kumar, Ranjan Raj, Alam K...</td>\n",
       "      <td>International TV Shows, Romantic TV Shows, TV ...</td>\n",
       "      <td>In a city of coaching centers known to train I...</td>\n",
       "      <td>city coaching centers known train india finest...</td>\n",
       "    </tr>\n",
       "  </tbody>\n",
       "</table>\n",
       "</div>"
      ],
      "text/plain": [
       "                         title     type         director  \\\n",
       "show_id                                                    \n",
       "s1        Dick Johnson Is Dead    Movie  Kirsten Johnson   \n",
       "s2               Blood & Water  TV Show              NaN   \n",
       "s3                   Ganglands  TV Show  Julien Leclercq   \n",
       "s4       Jailbirds New Orleans  TV Show              NaN   \n",
       "s5                Kota Factory  TV Show              NaN   \n",
       "\n",
       "                                                      cast  \\\n",
       "show_id                                                      \n",
       "s1                                                     NaN   \n",
       "s2       Ama Qamata, Khosi Ngema, Gail Mabalane, Thaban...   \n",
       "s3       Sami Bouajila, Tracy Gotoas, Samuel Jouy, Nabi...   \n",
       "s4                                                     NaN   \n",
       "s5       Mayur More, Jitendra Kumar, Ranjan Raj, Alam K...   \n",
       "\n",
       "                                                     genre  \\\n",
       "show_id                                                      \n",
       "s1                                           Documentaries   \n",
       "s2         International TV Shows, TV Dramas, TV Mysteries   \n",
       "s3       Crime TV Shows, International TV Shows, TV Act...   \n",
       "s4                                  Docuseries, Reality TV   \n",
       "s5       International TV Shows, Romantic TV Shows, TV ...   \n",
       "\n",
       "                                               description  \\\n",
       "show_id                                                      \n",
       "s1       As her father nears the end of his life, filmm...   \n",
       "s2       After crossing paths at a party, a Cape Town t...   \n",
       "s3       To protect his family from a powerful drug lor...   \n",
       "s4       Feuds, flirtations and toilet talk go down amo...   \n",
       "s5       In a city of coaching centers known to train I...   \n",
       "\n",
       "                                                clean_desc  \n",
       "show_id                                                     \n",
       "s1       father nears end life filmmaker kirsten johnso...  \n",
       "s2       crossing paths party cape town teen sets prove...  \n",
       "s3       protect family powerful drug lord skilled thie...  \n",
       "s4       feuds flirtations toilet talk go among incarce...  \n",
       "s5       city coaching centers known train india finest...  "
      ]
     },
     "execution_count": 246,
     "metadata": {},
     "output_type": "execute_result"
    }
   ],
   "source": [
    "# Tokenize and remove English stopwords in clean_desc to retain only keywords\n",
    "\n",
    "netflix_metadata['clean_desc'] = netflix_metadata['clean_desc'].apply(word_tokenize)\n",
    "\n",
    "netflix_metadata['clean_desc'] = netflix_metadata['clean_desc'].apply(\n",
    "    lambda x:[word for word in x if word not in set(stopwords.words('english'))]\n",
    "    )\n",
    "\n",
    "netflix_metadata['clean_desc'] = netflix_metadata['clean_desc'].apply(lambda x: ' '.join(x)) #convert tokenized words into single string\n",
    "\n",
    "netflix_metadata.head()"
   ]
  },
  {
   "cell_type": "code",
   "execution_count": 248,
   "metadata": {},
   "outputs": [
    {
     "data": {
      "text/plain": [
       "'father nears end life filmmaker kirsten johnson stages death inventive comical ways help face inevitable'"
      ]
     },
     "execution_count": 248,
     "metadata": {},
     "output_type": "execute_result"
    }
   ],
   "source": [
    "netflix_metadata.clean_desc[0]"
   ]
  },
  {
   "cell_type": "code",
   "execution_count": 249,
   "metadata": {},
   "outputs": [],
   "source": [
    "# Reset index of netflix_metadata to integers\n",
    "netflix_metadata = netflix_metadata.reset_index(drop=True)"
   ]
  },
  {
   "cell_type": "code",
   "execution_count": 250,
   "metadata": {},
   "outputs": [
    {
     "name": "stdout",
     "output_type": "stream",
     "text": [
      "RangeIndex(start=0, stop=8807, step=1)\n"
     ]
    }
   ],
   "source": [
    "print(netflix_metadata.index)"
   ]
  },
  {
   "cell_type": "code",
   "execution_count": 251,
   "metadata": {},
   "outputs": [],
   "source": [
    "# Generate TF-IDF matrix\n",
    "from sklearn.feature_extraction.text import TfidfVectorizer\n",
    "\n",
    "tfidf = TfidfVectorizer()\n",
    "tfidf_matrix = tfidf.fit_transform(netflix_metadata['clean_desc'])"
   ]
  },
  {
   "cell_type": "code",
   "execution_count": 252,
   "metadata": {},
   "outputs": [
    {
     "data": {
      "text/plain": [
       "(8807, 18751)"
      ]
     },
     "execution_count": 252,
     "metadata": {},
     "output_type": "execute_result"
    }
   ],
   "source": [
    "tfidf_matrix.shape\n",
    "\n",
    "## Note: We have a matrix of 8807 titles and 18751-word vectors representing text of each title \n",
    "## To compute cosine similarity, we need to generate a matrix where rows and columns represent the 8807 titles\n",
    "## Each title will be compared to every other title along both axes "
   ]
  },
  {
   "cell_type": "code",
   "execution_count": 253,
   "metadata": {},
   "outputs": [
    {
     "data": {
      "text/plain": [
       "(8807, 8807)"
      ]
     },
     "execution_count": 253,
     "metadata": {},
     "output_type": "execute_result"
    }
   ],
   "source": [
    "# Calculate Cosine Similarity matrix using linear kernel\n",
    "\n",
    "from sklearn.metrics.pairwise import linear_kernel\n",
    "\n",
    "cosine_matrix = linear_kernel(tfidf_matrix, tfidf_matrix)\n",
    "\n",
    "cosine_matrix.shape"
   ]
  },
  {
   "cell_type": "code",
   "execution_count": 254,
   "metadata": {},
   "outputs": [
    {
     "name": "stdout",
     "output_type": "stream",
     "text": [
      "8807.0\n"
     ]
    }
   ],
   "source": [
    "# Verify diagonal elements are 1s since each movie will be compared to itself \n",
    "# Sum of diagonal elements should equal 8807\n",
    "\n",
    "diag = 0\n",
    "for i in range(len(cosine_matrix)):\n",
    "    diag+= cosine_matrix[i][i]\n",
    "\n",
    "print(diag)"
   ]
  },
  {
   "cell_type": "code",
   "execution_count": null,
   "metadata": {},
   "outputs": [],
   "source": [
    "# Define function to fetch n similar titles to the one user provided\n",
    "\n",
    "## Workflow: \n",
    "# 1. User provides a title - model to locate corresponding index of the title in the original DataFrame\n",
    "# 2. Use this index to retrieve array of cosine similarity scores of specified title with all other titles\n",
    "# 3. Sort the similarity score in descending order to showcase most similar titles"
   ]
  },
  {
   "cell_type": "code",
   "execution_count": 255,
   "metadata": {},
   "outputs": [],
   "source": [
    "def get_recommendations(title, n):\n",
    "    # get index from dataframe:\n",
    "    index = netflix_metadata[netflix_metadata['title'] == title].index[0]\n",
    "    \n",
    "    # sort top n similar movies\n",
    "    similar_titles = sorted(list(enumerate(cosine_matrix[index])), reverse=True, key=lambda x: x[1])\n",
    "    \n",
    "    # extract names from dataframe and return movie names\n",
    "    recomm = []\n",
    "    for i in  similar_titles[1:n+1]:\n",
    "        recomm.append(netflix_metadata.iloc[i[0]].title)\n",
    "        \n",
    "    return recomm"
   ]
  },
  {
   "cell_type": "code",
   "execution_count": 256,
   "metadata": {},
   "outputs": [
    {
     "data": {
      "text/plain": [
       "['End Game',\n",
       " 'The Soul',\n",
       " 'Moon',\n",
       " 'The Death and Life of Marsha P. Johnson',\n",
       " 'The Cloverfield Paradox']"
      ]
     },
     "execution_count": 256,
     "metadata": {},
     "output_type": "execute_result"
    }
   ],
   "source": [
    "get_recommendations(\"Dick Johnson Is Dead\", 5)"
   ]
  },
  {
   "cell_type": "code",
   "execution_count": 257,
   "metadata": {},
   "outputs": [
    {
     "data": {
      "text/plain": [
       "['Drishyam', 'The Creative Indians']"
      ]
     },
     "execution_count": 257,
     "metadata": {},
     "output_type": "execute_result"
    }
   ],
   "source": [
    "get_recommendations(\"Kota Factory\", 2)"
   ]
  },
  {
   "cell_type": "markdown",
   "metadata": {},
   "source": [
    "### Metadata-based Recommender"
   ]
  },
  {
   "cell_type": "code",
   "execution_count": 258,
   "metadata": {},
   "outputs": [
    {
     "data": {
      "text/html": [
       "<div>\n",
       "<style scoped>\n",
       "    .dataframe tbody tr th:only-of-type {\n",
       "        vertical-align: middle;\n",
       "    }\n",
       "\n",
       "    .dataframe tbody tr th {\n",
       "        vertical-align: top;\n",
       "    }\n",
       "\n",
       "    .dataframe thead th {\n",
       "        text-align: right;\n",
       "    }\n",
       "</style>\n",
       "<table border=\"1\" class=\"dataframe\">\n",
       "  <thead>\n",
       "    <tr style=\"text-align: right;\">\n",
       "      <th></th>\n",
       "      <th>title</th>\n",
       "      <th>type</th>\n",
       "      <th>director</th>\n",
       "      <th>cast</th>\n",
       "      <th>genre</th>\n",
       "      <th>description</th>\n",
       "      <th>clean_desc</th>\n",
       "    </tr>\n",
       "  </thead>\n",
       "  <tbody>\n",
       "    <tr>\n",
       "      <th>0</th>\n",
       "      <td>Dick Johnson Is Dead</td>\n",
       "      <td>Movie</td>\n",
       "      <td>Kirsten Johnson</td>\n",
       "      <td>NaN</td>\n",
       "      <td>Documentaries</td>\n",
       "      <td>As her father nears the end of his life, filmm...</td>\n",
       "      <td>father nears end life filmmaker kirsten johnso...</td>\n",
       "    </tr>\n",
       "    <tr>\n",
       "      <th>1</th>\n",
       "      <td>Blood &amp; Water</td>\n",
       "      <td>TV Show</td>\n",
       "      <td>NaN</td>\n",
       "      <td>Ama Qamata, Khosi Ngema, Gail Mabalane, Thaban...</td>\n",
       "      <td>International TV Shows, TV Dramas, TV Mysteries</td>\n",
       "      <td>After crossing paths at a party, a Cape Town t...</td>\n",
       "      <td>crossing paths party cape town teen sets prove...</td>\n",
       "    </tr>\n",
       "    <tr>\n",
       "      <th>2</th>\n",
       "      <td>Ganglands</td>\n",
       "      <td>TV Show</td>\n",
       "      <td>Julien Leclercq</td>\n",
       "      <td>Sami Bouajila, Tracy Gotoas, Samuel Jouy, Nabi...</td>\n",
       "      <td>Crime TV Shows, International TV Shows, TV Act...</td>\n",
       "      <td>To protect his family from a powerful drug lor...</td>\n",
       "      <td>protect family powerful drug lord skilled thie...</td>\n",
       "    </tr>\n",
       "    <tr>\n",
       "      <th>3</th>\n",
       "      <td>Jailbirds New Orleans</td>\n",
       "      <td>TV Show</td>\n",
       "      <td>NaN</td>\n",
       "      <td>NaN</td>\n",
       "      <td>Docuseries, Reality TV</td>\n",
       "      <td>Feuds, flirtations and toilet talk go down amo...</td>\n",
       "      <td>feuds flirtations toilet talk go among incarce...</td>\n",
       "    </tr>\n",
       "    <tr>\n",
       "      <th>4</th>\n",
       "      <td>Kota Factory</td>\n",
       "      <td>TV Show</td>\n",
       "      <td>NaN</td>\n",
       "      <td>Mayur More, Jitendra Kumar, Ranjan Raj, Alam K...</td>\n",
       "      <td>International TV Shows, Romantic TV Shows, TV ...</td>\n",
       "      <td>In a city of coaching centers known to train I...</td>\n",
       "      <td>city coaching centers known train india finest...</td>\n",
       "    </tr>\n",
       "  </tbody>\n",
       "</table>\n",
       "</div>"
      ],
      "text/plain": [
       "                   title     type         director  \\\n",
       "0   Dick Johnson Is Dead    Movie  Kirsten Johnson   \n",
       "1          Blood & Water  TV Show              NaN   \n",
       "2              Ganglands  TV Show  Julien Leclercq   \n",
       "3  Jailbirds New Orleans  TV Show              NaN   \n",
       "4           Kota Factory  TV Show              NaN   \n",
       "\n",
       "                                                cast  \\\n",
       "0                                                NaN   \n",
       "1  Ama Qamata, Khosi Ngema, Gail Mabalane, Thaban...   \n",
       "2  Sami Bouajila, Tracy Gotoas, Samuel Jouy, Nabi...   \n",
       "3                                                NaN   \n",
       "4  Mayur More, Jitendra Kumar, Ranjan Raj, Alam K...   \n",
       "\n",
       "                                               genre  \\\n",
       "0                                      Documentaries   \n",
       "1    International TV Shows, TV Dramas, TV Mysteries   \n",
       "2  Crime TV Shows, International TV Shows, TV Act...   \n",
       "3                             Docuseries, Reality TV   \n",
       "4  International TV Shows, Romantic TV Shows, TV ...   \n",
       "\n",
       "                                         description  \\\n",
       "0  As her father nears the end of his life, filmm...   \n",
       "1  After crossing paths at a party, a Cape Town t...   \n",
       "2  To protect his family from a powerful drug lor...   \n",
       "3  Feuds, flirtations and toilet talk go down amo...   \n",
       "4  In a city of coaching centers known to train I...   \n",
       "\n",
       "                                          clean_desc  \n",
       "0  father nears end life filmmaker kirsten johnso...  \n",
       "1  crossing paths party cape town teen sets prove...  \n",
       "2  protect family powerful drug lord skilled thie...  \n",
       "3  feuds flirtations toilet talk go among incarce...  \n",
       "4  city coaching centers known train india finest...  "
      ]
     },
     "execution_count": 258,
     "metadata": {},
     "output_type": "execute_result"
    }
   ],
   "source": [
    "netflix_metadata.head()"
   ]
  },
  {
   "cell_type": "code",
   "execution_count": 259,
   "metadata": {},
   "outputs": [],
   "source": [
    "# Change data type of cast, genre to list; director to string\n",
    "import ast\n",
    "\n",
    "netflix_metadata['cast'] = netflix_metadata['cast'].apply(lambda x: x.split(\", \") if pd.notna(x) else [])\n",
    "netflix_metadata['genre'] = netflix_metadata['genre'].apply(lambda x: x.split(\", \") if pd.notna(x) else [])\n",
    "netflix_metadata['director'] = netflix_metadata['director'].astype(str)"
   ]
  },
  {
   "cell_type": "code",
   "execution_count": 260,
   "metadata": {},
   "outputs": [
    {
     "data": {
      "text/html": [
       "<div>\n",
       "<style scoped>\n",
       "    .dataframe tbody tr th:only-of-type {\n",
       "        vertical-align: middle;\n",
       "    }\n",
       "\n",
       "    .dataframe tbody tr th {\n",
       "        vertical-align: top;\n",
       "    }\n",
       "\n",
       "    .dataframe thead th {\n",
       "        text-align: right;\n",
       "    }\n",
       "</style>\n",
       "<table border=\"1\" class=\"dataframe\">\n",
       "  <thead>\n",
       "    <tr style=\"text-align: right;\">\n",
       "      <th></th>\n",
       "      <th>title</th>\n",
       "      <th>type</th>\n",
       "      <th>director</th>\n",
       "      <th>cast</th>\n",
       "      <th>genre</th>\n",
       "      <th>description</th>\n",
       "      <th>clean_desc</th>\n",
       "    </tr>\n",
       "  </thead>\n",
       "  <tbody>\n",
       "    <tr>\n",
       "      <th>0</th>\n",
       "      <td>Dick Johnson Is Dead</td>\n",
       "      <td>Movie</td>\n",
       "      <td>Kirsten Johnson</td>\n",
       "      <td>[]</td>\n",
       "      <td>[Documentaries]</td>\n",
       "      <td>As her father nears the end of his life, filmm...</td>\n",
       "      <td>father nears end life filmmaker kirsten johnso...</td>\n",
       "    </tr>\n",
       "    <tr>\n",
       "      <th>1</th>\n",
       "      <td>Blood &amp; Water</td>\n",
       "      <td>TV Show</td>\n",
       "      <td>nan</td>\n",
       "      <td>[Ama Qamata, Khosi Ngema, Gail Mabalane, Thaba...</td>\n",
       "      <td>[International TV Shows, TV Dramas, TV Mysteries]</td>\n",
       "      <td>After crossing paths at a party, a Cape Town t...</td>\n",
       "      <td>crossing paths party cape town teen sets prove...</td>\n",
       "    </tr>\n",
       "    <tr>\n",
       "      <th>2</th>\n",
       "      <td>Ganglands</td>\n",
       "      <td>TV Show</td>\n",
       "      <td>Julien Leclercq</td>\n",
       "      <td>[Sami Bouajila, Tracy Gotoas, Samuel Jouy, Nab...</td>\n",
       "      <td>[Crime TV Shows, International TV Shows, TV Ac...</td>\n",
       "      <td>To protect his family from a powerful drug lor...</td>\n",
       "      <td>protect family powerful drug lord skilled thie...</td>\n",
       "    </tr>\n",
       "    <tr>\n",
       "      <th>3</th>\n",
       "      <td>Jailbirds New Orleans</td>\n",
       "      <td>TV Show</td>\n",
       "      <td>nan</td>\n",
       "      <td>[]</td>\n",
       "      <td>[Docuseries, Reality TV]</td>\n",
       "      <td>Feuds, flirtations and toilet talk go down amo...</td>\n",
       "      <td>feuds flirtations toilet talk go among incarce...</td>\n",
       "    </tr>\n",
       "    <tr>\n",
       "      <th>4</th>\n",
       "      <td>Kota Factory</td>\n",
       "      <td>TV Show</td>\n",
       "      <td>nan</td>\n",
       "      <td>[Mayur More, Jitendra Kumar, Ranjan Raj, Alam ...</td>\n",
       "      <td>[International TV Shows, Romantic TV Shows, TV...</td>\n",
       "      <td>In a city of coaching centers known to train I...</td>\n",
       "      <td>city coaching centers known train india finest...</td>\n",
       "    </tr>\n",
       "  </tbody>\n",
       "</table>\n",
       "</div>"
      ],
      "text/plain": [
       "                   title     type         director  \\\n",
       "0   Dick Johnson Is Dead    Movie  Kirsten Johnson   \n",
       "1          Blood & Water  TV Show              nan   \n",
       "2              Ganglands  TV Show  Julien Leclercq   \n",
       "3  Jailbirds New Orleans  TV Show              nan   \n",
       "4           Kota Factory  TV Show              nan   \n",
       "\n",
       "                                                cast  \\\n",
       "0                                                 []   \n",
       "1  [Ama Qamata, Khosi Ngema, Gail Mabalane, Thaba...   \n",
       "2  [Sami Bouajila, Tracy Gotoas, Samuel Jouy, Nab...   \n",
       "3                                                 []   \n",
       "4  [Mayur More, Jitendra Kumar, Ranjan Raj, Alam ...   \n",
       "\n",
       "                                               genre  \\\n",
       "0                                    [Documentaries]   \n",
       "1  [International TV Shows, TV Dramas, TV Mysteries]   \n",
       "2  [Crime TV Shows, International TV Shows, TV Ac...   \n",
       "3                           [Docuseries, Reality TV]   \n",
       "4  [International TV Shows, Romantic TV Shows, TV...   \n",
       "\n",
       "                                         description  \\\n",
       "0  As her father nears the end of his life, filmm...   \n",
       "1  After crossing paths at a party, a Cape Town t...   \n",
       "2  To protect his family from a powerful drug lor...   \n",
       "3  Feuds, flirtations and toilet talk go down amo...   \n",
       "4  In a city of coaching centers known to train I...   \n",
       "\n",
       "                                          clean_desc  \n",
       "0  father nears end life filmmaker kirsten johnso...  \n",
       "1  crossing paths party cape town teen sets prove...  \n",
       "2  protect family powerful drug lord skilled thie...  \n",
       "3  feuds flirtations toilet talk go among incarce...  \n",
       "4  city coaching centers known train india finest...  "
      ]
     },
     "execution_count": 260,
     "metadata": {},
     "output_type": "execute_result"
    }
   ],
   "source": [
    "netflix_metadata.head()"
   ]
  },
  {
   "cell_type": "code",
   "execution_count": 261,
   "metadata": {},
   "outputs": [],
   "source": [
    "## Get top 3 actors and top 3 genres for each title\n",
    "\n",
    "# Define function to return a list of top 3 elements or entire list (whichever is more)\n",
    "def get_list(x):\n",
    "    if isinstance(x, list):  #Check if x is a list \n",
    "        if len(x) > 3:      #Check if the list contain >3 items. If yes, return only first 3. If not, return entire list   \n",
    "            return x[:3]\n",
    "        return x               \n",
    "    return [] #Return empty list if input object 'x' is not a list"
   ]
  },
  {
   "cell_type": "code",
   "execution_count": 262,
   "metadata": {},
   "outputs": [],
   "source": [
    "# Apply get_list on cast and genre to get top 3\n",
    "features = ['cast','genre']\n",
    "for feature in features:\n",
    "    netflix_metadata[feature] = netflix_metadata[feature].apply(get_list)"
   ]
  },
  {
   "cell_type": "code",
   "execution_count": 263,
   "metadata": {},
   "outputs": [
    {
     "data": {
      "text/html": [
       "<div>\n",
       "<style scoped>\n",
       "    .dataframe tbody tr th:only-of-type {\n",
       "        vertical-align: middle;\n",
       "    }\n",
       "\n",
       "    .dataframe tbody tr th {\n",
       "        vertical-align: top;\n",
       "    }\n",
       "\n",
       "    .dataframe thead th {\n",
       "        text-align: right;\n",
       "    }\n",
       "</style>\n",
       "<table border=\"1\" class=\"dataframe\">\n",
       "  <thead>\n",
       "    <tr style=\"text-align: right;\">\n",
       "      <th></th>\n",
       "      <th>title</th>\n",
       "      <th>type</th>\n",
       "      <th>director</th>\n",
       "      <th>cast</th>\n",
       "      <th>genre</th>\n",
       "      <th>description</th>\n",
       "      <th>clean_desc</th>\n",
       "    </tr>\n",
       "  </thead>\n",
       "  <tbody>\n",
       "    <tr>\n",
       "      <th>0</th>\n",
       "      <td>Dick Johnson Is Dead</td>\n",
       "      <td>Movie</td>\n",
       "      <td>Kirsten Johnson</td>\n",
       "      <td>[]</td>\n",
       "      <td>[Documentaries]</td>\n",
       "      <td>As her father nears the end of his life, filmm...</td>\n",
       "      <td>father nears end life filmmaker kirsten johnso...</td>\n",
       "    </tr>\n",
       "    <tr>\n",
       "      <th>1</th>\n",
       "      <td>Blood &amp; Water</td>\n",
       "      <td>TV Show</td>\n",
       "      <td>nan</td>\n",
       "      <td>[Ama Qamata, Khosi Ngema, Gail Mabalane]</td>\n",
       "      <td>[International TV Shows, TV Dramas, TV Mysteries]</td>\n",
       "      <td>After crossing paths at a party, a Cape Town t...</td>\n",
       "      <td>crossing paths party cape town teen sets prove...</td>\n",
       "    </tr>\n",
       "    <tr>\n",
       "      <th>2</th>\n",
       "      <td>Ganglands</td>\n",
       "      <td>TV Show</td>\n",
       "      <td>Julien Leclercq</td>\n",
       "      <td>[Sami Bouajila, Tracy Gotoas, Samuel Jouy]</td>\n",
       "      <td>[Crime TV Shows, International TV Shows, TV Ac...</td>\n",
       "      <td>To protect his family from a powerful drug lor...</td>\n",
       "      <td>protect family powerful drug lord skilled thie...</td>\n",
       "    </tr>\n",
       "    <tr>\n",
       "      <th>3</th>\n",
       "      <td>Jailbirds New Orleans</td>\n",
       "      <td>TV Show</td>\n",
       "      <td>nan</td>\n",
       "      <td>[]</td>\n",
       "      <td>[Docuseries, Reality TV]</td>\n",
       "      <td>Feuds, flirtations and toilet talk go down amo...</td>\n",
       "      <td>feuds flirtations toilet talk go among incarce...</td>\n",
       "    </tr>\n",
       "    <tr>\n",
       "      <th>4</th>\n",
       "      <td>Kota Factory</td>\n",
       "      <td>TV Show</td>\n",
       "      <td>nan</td>\n",
       "      <td>[Mayur More, Jitendra Kumar, Ranjan Raj]</td>\n",
       "      <td>[International TV Shows, Romantic TV Shows, TV...</td>\n",
       "      <td>In a city of coaching centers known to train I...</td>\n",
       "      <td>city coaching centers known train india finest...</td>\n",
       "    </tr>\n",
       "  </tbody>\n",
       "</table>\n",
       "</div>"
      ],
      "text/plain": [
       "                   title     type         director  \\\n",
       "0   Dick Johnson Is Dead    Movie  Kirsten Johnson   \n",
       "1          Blood & Water  TV Show              nan   \n",
       "2              Ganglands  TV Show  Julien Leclercq   \n",
       "3  Jailbirds New Orleans  TV Show              nan   \n",
       "4           Kota Factory  TV Show              nan   \n",
       "\n",
       "                                         cast  \\\n",
       "0                                          []   \n",
       "1    [Ama Qamata, Khosi Ngema, Gail Mabalane]   \n",
       "2  [Sami Bouajila, Tracy Gotoas, Samuel Jouy]   \n",
       "3                                          []   \n",
       "4    [Mayur More, Jitendra Kumar, Ranjan Raj]   \n",
       "\n",
       "                                               genre  \\\n",
       "0                                    [Documentaries]   \n",
       "1  [International TV Shows, TV Dramas, TV Mysteries]   \n",
       "2  [Crime TV Shows, International TV Shows, TV Ac...   \n",
       "3                           [Docuseries, Reality TV]   \n",
       "4  [International TV Shows, Romantic TV Shows, TV...   \n",
       "\n",
       "                                         description  \\\n",
       "0  As her father nears the end of his life, filmm...   \n",
       "1  After crossing paths at a party, a Cape Town t...   \n",
       "2  To protect his family from a powerful drug lor...   \n",
       "3  Feuds, flirtations and toilet talk go down amo...   \n",
       "4  In a city of coaching centers known to train I...   \n",
       "\n",
       "                                          clean_desc  \n",
       "0  father nears end life filmmaker kirsten johnso...  \n",
       "1  crossing paths party cape town teen sets prove...  \n",
       "2  protect family powerful drug lord skilled thie...  \n",
       "3  feuds flirtations toilet talk go among incarce...  \n",
       "4  city coaching centers known train india finest...  "
      ]
     },
     "execution_count": 263,
     "metadata": {},
     "output_type": "execute_result"
    }
   ],
   "source": [
    "netflix_metadata.head()"
   ]
  },
  {
   "cell_type": "code",
   "execution_count": 264,
   "metadata": {},
   "outputs": [],
   "source": [
    "# Change data type of type to str\n",
    "netflix_metadata['type'] = netflix_metadata['type'].astype(str)"
   ]
  },
  {
   "cell_type": "code",
   "execution_count": 265,
   "metadata": {},
   "outputs": [],
   "source": [
    "## Convert names of actors, directors, type, and genres to lowercase and strip names of spaces\n",
    "   # (prevent vectorizer from counting 'Johnny Depp' & 'Johnny Galecki' as the same)"
   ]
  },
  {
   "cell_type": "code",
   "execution_count": 266,
   "metadata": {},
   "outputs": [],
   "source": [
    "# Define function to strip spaces within word\n",
    "def clean_data(x):\n",
    "    if isinstance(x, list):\n",
    "        return [str(i.lower().replace(\" \",\"\")) for i in x]  # strip spaces within word\n",
    "    elif isinstance(x, str):\n",
    "        return x.lower().replace(\" \",\"\")  # Check if director exists. If not, return empty string\n",
    "    else:\n",
    "        return x"
   ]
  },
  {
   "cell_type": "code",
   "execution_count": 267,
   "metadata": {},
   "outputs": [],
   "source": [
    "# Apply clean_data on type, director, cast, genre columns\n",
    "metadata = ['type', 'director', 'cast', 'genre']\n",
    "\n",
    "for m in metadata:\n",
    "    new_column_name = f'clean_{m}'\n",
    "    netflix_metadata[new_column_name] = netflix_metadata[m].apply(clean_data)"
   ]
  },
  {
   "cell_type": "code",
   "execution_count": 268,
   "metadata": {},
   "outputs": [],
   "source": [
    "# Replace nan values in clean_director with empty strings\n",
    "netflix_metadata['clean_director'] = netflix_metadata['clean_director'].replace('nan', '')"
   ]
  },
  {
   "cell_type": "code",
   "execution_count": 269,
   "metadata": {},
   "outputs": [
    {
     "data": {
      "text/html": [
       "<div>\n",
       "<style scoped>\n",
       "    .dataframe tbody tr th:only-of-type {\n",
       "        vertical-align: middle;\n",
       "    }\n",
       "\n",
       "    .dataframe tbody tr th {\n",
       "        vertical-align: top;\n",
       "    }\n",
       "\n",
       "    .dataframe thead th {\n",
       "        text-align: right;\n",
       "    }\n",
       "</style>\n",
       "<table border=\"1\" class=\"dataframe\">\n",
       "  <thead>\n",
       "    <tr style=\"text-align: right;\">\n",
       "      <th></th>\n",
       "      <th>title</th>\n",
       "      <th>type</th>\n",
       "      <th>director</th>\n",
       "      <th>cast</th>\n",
       "      <th>genre</th>\n",
       "      <th>description</th>\n",
       "      <th>clean_desc</th>\n",
       "      <th>clean_type</th>\n",
       "      <th>clean_director</th>\n",
       "      <th>clean_cast</th>\n",
       "      <th>clean_genre</th>\n",
       "    </tr>\n",
       "  </thead>\n",
       "  <tbody>\n",
       "    <tr>\n",
       "      <th>0</th>\n",
       "      <td>Dick Johnson Is Dead</td>\n",
       "      <td>Movie</td>\n",
       "      <td>Kirsten Johnson</td>\n",
       "      <td>[]</td>\n",
       "      <td>[Documentaries]</td>\n",
       "      <td>As her father nears the end of his life, filmm...</td>\n",
       "      <td>father nears end life filmmaker kirsten johnso...</td>\n",
       "      <td>movie</td>\n",
       "      <td>kirstenjohnson</td>\n",
       "      <td>[]</td>\n",
       "      <td>[documentaries]</td>\n",
       "    </tr>\n",
       "    <tr>\n",
       "      <th>1</th>\n",
       "      <td>Blood &amp; Water</td>\n",
       "      <td>TV Show</td>\n",
       "      <td>nan</td>\n",
       "      <td>[Ama Qamata, Khosi Ngema, Gail Mabalane]</td>\n",
       "      <td>[International TV Shows, TV Dramas, TV Mysteries]</td>\n",
       "      <td>After crossing paths at a party, a Cape Town t...</td>\n",
       "      <td>crossing paths party cape town teen sets prove...</td>\n",
       "      <td>tvshow</td>\n",
       "      <td></td>\n",
       "      <td>[amaqamata, khosingema, gailmabalane]</td>\n",
       "      <td>[internationaltvshows, tvdramas, tvmysteries]</td>\n",
       "    </tr>\n",
       "    <tr>\n",
       "      <th>2</th>\n",
       "      <td>Ganglands</td>\n",
       "      <td>TV Show</td>\n",
       "      <td>Julien Leclercq</td>\n",
       "      <td>[Sami Bouajila, Tracy Gotoas, Samuel Jouy]</td>\n",
       "      <td>[Crime TV Shows, International TV Shows, TV Ac...</td>\n",
       "      <td>To protect his family from a powerful drug lor...</td>\n",
       "      <td>protect family powerful drug lord skilled thie...</td>\n",
       "      <td>tvshow</td>\n",
       "      <td>julienleclercq</td>\n",
       "      <td>[samibouajila, tracygotoas, samueljouy]</td>\n",
       "      <td>[crimetvshows, internationaltvshows, tvaction&amp;...</td>\n",
       "    </tr>\n",
       "    <tr>\n",
       "      <th>3</th>\n",
       "      <td>Jailbirds New Orleans</td>\n",
       "      <td>TV Show</td>\n",
       "      <td>nan</td>\n",
       "      <td>[]</td>\n",
       "      <td>[Docuseries, Reality TV]</td>\n",
       "      <td>Feuds, flirtations and toilet talk go down amo...</td>\n",
       "      <td>feuds flirtations toilet talk go among incarce...</td>\n",
       "      <td>tvshow</td>\n",
       "      <td></td>\n",
       "      <td>[]</td>\n",
       "      <td>[docuseries, realitytv]</td>\n",
       "    </tr>\n",
       "    <tr>\n",
       "      <th>4</th>\n",
       "      <td>Kota Factory</td>\n",
       "      <td>TV Show</td>\n",
       "      <td>nan</td>\n",
       "      <td>[Mayur More, Jitendra Kumar, Ranjan Raj]</td>\n",
       "      <td>[International TV Shows, Romantic TV Shows, TV...</td>\n",
       "      <td>In a city of coaching centers known to train I...</td>\n",
       "      <td>city coaching centers known train india finest...</td>\n",
       "      <td>tvshow</td>\n",
       "      <td></td>\n",
       "      <td>[mayurmore, jitendrakumar, ranjanraj]</td>\n",
       "      <td>[internationaltvshows, romantictvshows, tvcome...</td>\n",
       "    </tr>\n",
       "  </tbody>\n",
       "</table>\n",
       "</div>"
      ],
      "text/plain": [
       "                   title     type         director  \\\n",
       "0   Dick Johnson Is Dead    Movie  Kirsten Johnson   \n",
       "1          Blood & Water  TV Show              nan   \n",
       "2              Ganglands  TV Show  Julien Leclercq   \n",
       "3  Jailbirds New Orleans  TV Show              nan   \n",
       "4           Kota Factory  TV Show              nan   \n",
       "\n",
       "                                         cast  \\\n",
       "0                                          []   \n",
       "1    [Ama Qamata, Khosi Ngema, Gail Mabalane]   \n",
       "2  [Sami Bouajila, Tracy Gotoas, Samuel Jouy]   \n",
       "3                                          []   \n",
       "4    [Mayur More, Jitendra Kumar, Ranjan Raj]   \n",
       "\n",
       "                                               genre  \\\n",
       "0                                    [Documentaries]   \n",
       "1  [International TV Shows, TV Dramas, TV Mysteries]   \n",
       "2  [Crime TV Shows, International TV Shows, TV Ac...   \n",
       "3                           [Docuseries, Reality TV]   \n",
       "4  [International TV Shows, Romantic TV Shows, TV...   \n",
       "\n",
       "                                         description  \\\n",
       "0  As her father nears the end of his life, filmm...   \n",
       "1  After crossing paths at a party, a Cape Town t...   \n",
       "2  To protect his family from a powerful drug lor...   \n",
       "3  Feuds, flirtations and toilet talk go down amo...   \n",
       "4  In a city of coaching centers known to train I...   \n",
       "\n",
       "                                          clean_desc clean_type  \\\n",
       "0  father nears end life filmmaker kirsten johnso...      movie   \n",
       "1  crossing paths party cape town teen sets prove...     tvshow   \n",
       "2  protect family powerful drug lord skilled thie...     tvshow   \n",
       "3  feuds flirtations toilet talk go among incarce...     tvshow   \n",
       "4  city coaching centers known train india finest...     tvshow   \n",
       "\n",
       "   clean_director                               clean_cast  \\\n",
       "0  kirstenjohnson                                       []   \n",
       "1                    [amaqamata, khosingema, gailmabalane]   \n",
       "2  julienleclercq  [samibouajila, tracygotoas, samueljouy]   \n",
       "3                                                       []   \n",
       "4                    [mayurmore, jitendrakumar, ranjanraj]   \n",
       "\n",
       "                                         clean_genre  \n",
       "0                                    [documentaries]  \n",
       "1      [internationaltvshows, tvdramas, tvmysteries]  \n",
       "2  [crimetvshows, internationaltvshows, tvaction&...  \n",
       "3                            [docuseries, realitytv]  \n",
       "4  [internationaltvshows, romantictvshows, tvcome...  "
      ]
     },
     "execution_count": 269,
     "metadata": {},
     "output_type": "execute_result"
    }
   ],
   "source": [
    "netflix_metadata.head()"
   ]
  },
  {
   "cell_type": "code",
   "execution_count": 271,
   "metadata": {},
   "outputs": [],
   "source": [
    "# Generate metadata soup by merging metadata columns into single string\n",
    "    \n",
    "# Define create_soup() function \n",
    "def create_soup(x):\n",
    "    clean_type = x['clean_type']\n",
    "    clean_cast = ' '.join(x['clean_cast'])\n",
    "    clean_genre = ' '.join(x['clean_genre'])\n",
    "    \n",
    "    # Handle 'clean_director' if it's a list of strings\n",
    "    if isinstance(x['clean_director'], list):\n",
    "        clean_director = ' '.join(x['clean_director'])\n",
    "    else:\n",
    "        clean_director = x['clean_director']\n",
    "    \n",
    "    return f\"{clean_type} {clean_director} {clean_cast} {clean_genre}\"\n",
    "\n",
    "# Add 'soup' column to the DataFrame \n",
    "netflix_metadata['soup'] = netflix_metadata.apply(create_soup, axis=1)"
   ]
  },
  {
   "cell_type": "code",
   "execution_count": 272,
   "metadata": {},
   "outputs": [
    {
     "name": "stdout",
     "output_type": "stream",
     "text": [
      "             director                                               soup\n",
      "0     Kirsten Johnson                movie kirstenjohnson  documentaries\n",
      "1                 nan  tvshow  amaqamata khosingema gailmabalane inte...\n",
      "2     Julien Leclercq  tvshow julienleclercq samibouajila tracygotoas...\n",
      "3                 nan                      tvshow   docuseries realitytv\n",
      "4                 nan  tvshow  mayurmore jitendrakumar ranjanraj inte...\n",
      "...               ...                                                ...\n",
      "8802    David Fincher  movie davidfincher markruffalo jakegyllenhaal ...\n",
      "8803              nan          tvshow   kids'tv koreantvshows tvcomedies\n",
      "8804  Ruben Fleischer  movie rubenfleischer jesseeisenberg woodyharre...\n",
      "8805     Peter Hewitt  movie peterhewitt timallen courteneycox chevyc...\n",
      "8806      Mozez Singh  movie mozezsingh vickykaushal sarah-janedias r...\n",
      "\n",
      "[8807 rows x 2 columns]\n"
     ]
    }
   ],
   "source": [
    "print(netflix_metadata[['director','soup']])"
   ]
  },
  {
   "cell_type": "code",
   "execution_count": 273,
   "metadata": {},
   "outputs": [],
   "source": [
    "# Remove extra spaces & tvshow/movie words in soup column\n",
    "def clean_soup(soup):\n",
    "    cleaned_soup = ' '.join(soup.split())\n",
    "    return cleaned_soup\n",
    "\n",
    "netflix_metadata['soup'] = netflix_metadata['soup'].apply(clean_soup)\n",
    "netflix_metadata['soup'] = netflix_metadata['soup'].str.replace('tvshow', '').str.replace('movie', '').str.strip()"
   ]
  },
  {
   "cell_type": "code",
   "execution_count": 274,
   "metadata": {},
   "outputs": [
    {
     "name": "stdout",
     "output_type": "stream",
     "text": [
      "0                            kirstenjohnson documentaries\n",
      "1       amaqamata khosingema gailmabalane internationa...\n",
      "2       julienleclercq samibouajila tracygotoas samuel...\n",
      "3                                    docuseries realitytv\n",
      "4       mayurmore jitendrakumar ranjanraj internationa...\n",
      "                              ...                        \n",
      "8802    davidfincher markruffalo jakegyllenhaal robert...\n",
      "8803                           kids'tv koreans tvcomedies\n",
      "8804    rubenfleischer jesseeisenberg woodyharrelson e...\n",
      "8805    peterhewitt timallen courteneycox chevychase c...\n",
      "8806    mozezsingh vickykaushal sarah-janedias raaghav...\n",
      "Name: soup, Length: 8807, dtype: object\n"
     ]
    }
   ],
   "source": [
    "print(netflix_metadata.soup)"
   ]
  },
  {
   "cell_type": "code",
   "execution_count": 275,
   "metadata": {},
   "outputs": [],
   "source": [
    "# Generate TfIdfVectorizer matrix \n",
    "from sklearn.feature_extraction.text import TfidfVectorizer\n",
    "\n",
    "tfidf_meta = TfidfVectorizer()\n",
    "tfidf_meta_matrix = tfidf_meta.fit_transform(netflix_metadata['soup'])"
   ]
  },
  {
   "cell_type": "code",
   "execution_count": 276,
   "metadata": {},
   "outputs": [
    {
     "data": {
      "text/plain": [
       "(8807, 18844)"
      ]
     },
     "execution_count": 276,
     "metadata": {},
     "output_type": "execute_result"
    }
   ],
   "source": [
    "tfidf_meta_matrix.shape"
   ]
  },
  {
   "cell_type": "code",
   "execution_count": 278,
   "metadata": {},
   "outputs": [],
   "source": [
    "# Define function to input keywords (genre, director name and/or actor name) - output similar movies\n",
    "\n",
    "def get_keywords_recommendations(keywords, n):\n",
    "    \n",
    "    keywords = keywords.lower()\n",
    "    if \",\" in keywords:\n",
    "        keywords = keywords.split(\",\")\n",
    "        keywords = \" \".join([\"\".join(k.strip().split()) for k in keywords])\n",
    "    else: \n",
    "        keywords = keywords.replace(\" \", \"\")\n",
    "   \n",
    "    # If there are no spaces in keywords, use regex to find exact matches\n",
    "    regex_pattern = r'\\b' + re.escape(keywords) + r'\\b'\n",
    "    matches = netflix_metadata[netflix_metadata['soup'].str.contains(regex_pattern, case=False, regex=True)]\n",
    "    \n",
    "    # If there are exact matches, return them\n",
    "    if not matches.empty:\n",
    "        recomm = matches['title'][:n].tolist()\n",
    "    else:\n",
    "        # If no exact matches, calculate cosine similarity\n",
    "        keywords_vector = tfidf_meta.transform([keywords]) # vectorize keywords\n",
    "        result = cosine_similarity(keywords_vector, tfidf_meta_matrix) # compute cosine similarity\n",
    "        similar_key_movies = sorted(list(enumerate(result[0])), reverse=True, key=lambda x: x[1]) # sort top n similar movies\n",
    "        recomm = [netflix_metadata.iloc[i[0]].title for i in similar_key_movies[1:n+1]]\n",
    "    \n",
    "    return recomm\n",
    "    \n",
    "    # extract names from dataframe and return movie names\n",
    "    recomm = [netflix_metadata.iloc[i[0]].title for i in similar_key_movies[1:n+1]]\n",
    "    return recomm\n",
    "    "
   ]
  },
  {
   "cell_type": "code",
   "execution_count": 280,
   "metadata": {},
   "outputs": [
    {
     "data": {
      "text/plain": [
       "['Inception']"
      ]
     },
     "execution_count": 280,
     "metadata": {},
     "output_type": "execute_result"
    }
   ],
   "source": [
    "get_keywords_recommendations(\"Christopher Nolan\", 3)"
   ]
  }
 ],
 "metadata": {
  "kernelspec": {
   "display_name": "venv1",
   "language": "python",
   "name": "python3"
  },
  "language_info": {
   "codemirror_mode": {
    "name": "ipython",
    "version": 3
   },
   "file_extension": ".py",
   "mimetype": "text/x-python",
   "name": "python",
   "nbconvert_exporter": "python",
   "pygments_lexer": "ipython3",
   "version": "3.11.5"
  }
 },
 "nbformat": 4,
 "nbformat_minor": 2
}
